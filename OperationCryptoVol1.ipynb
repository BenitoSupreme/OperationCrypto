{
  "nbformat": 4,
  "nbformat_minor": 0,
  "metadata": {
    "colab": {
      "provenance": []
    },
    "kernelspec": {
      "name": "python3",
      "display_name": "Python 3"
    },
    "language_info": {
      "name": "python"
    }
  },
  "cells": [
    {
      "cell_type": "markdown",
      "source": [
        "#Import Libraries and link drive with csv file"
      ],
      "metadata": {
        "id": "X_PoVOgiPeEr"
      }
    },
    {
      "cell_type": "code",
      "execution_count": null,
      "metadata": {
        "id": "y5MZ7l4A3xFH",
        "colab": {
          "base_uri": "https://localhost:8080/"
        },
        "outputId": "6e0a5b27-461e-4042-e4f3-1b9f845ec9b8"
      },
      "outputs": [
        {
          "output_type": "stream",
          "name": "stdout",
          "text": [
            "Mounted at /content/drive\n"
          ]
        }
      ],
      "source": [
        "import pandas as pd\n",
        "from sklearn.tree import DecisionTreeRegressor\n",
        "from sklearn.model_selection import train_test_split # Import train_test_split function\n",
        "from sklearn import metrics #Import scikit-learn metrics module for accuracy calculation\n",
        "from sklearn.model_selection import cross_val_score\n",
        "import numpy as np\n",
        "import matplotlib.pyplot as plt\n",
        "import requests\n",
        "import time\n",
        "\n",
        "from google.colab import drive\n",
        "drive.mount('/content/drive')\n",
        "\n",
        "#setting crypto_df as my dataframe\n",
        "crypto_df=pd.read_csv(\"/content/drive/MyDrive/CryptoQuant/cryptomarkets.csv\")[:2040]"
      ]
    },
    {
      "cell_type": "code",
      "source": [
        "crypto_df.head()"
      ],
      "metadata": {
        "id": "UWYY1ttw_NET"
      },
      "execution_count": null,
      "outputs": []
    },
    {
      "cell_type": "markdown",
      "source": [
        "\n",
        "#Preprocess Data"
      ],
      "metadata": {
        "id": "G1XC96k7X-iS"
      }
    },
    {
      "cell_type": "code",
      "source": [
        "#create a column 'optimal_spread' that gives a value of 1 if inbetween spread of 13-18\n",
        "crypto_df['optimal_spread'] = 0\n",
        "\n",
        "for i in range(len(crypto_df['spread'])):\n",
        "  if crypto_df['spread'][i] > 13 and crypto_df['spread'][i] < 18:\n",
        "    crypto_df['optimal_spread'][i] = 1\n",
        "  else:\n",
        "    crypto_df['optimal_spread'][i] = 0"
      ],
      "metadata": {
        "id": "E7S0Xs63bhha",
        "colab": {
          "base_uri": "https://localhost:8080/"
        },
        "outputId": "e4ccd87c-e932-4ebc-e4d0-d877c53f3897"
      },
      "execution_count": null,
      "outputs": [
        {
          "output_type": "stream",
          "name": "stderr",
          "text": [
            "<ipython-input-2-e728b7018b23>:8: SettingWithCopyWarning: \n",
            "A value is trying to be set on a copy of a slice from a DataFrame\n",
            "\n",
            "See the caveats in the documentation: https://pandas.pydata.org/pandas-docs/stable/user_guide/indexing.html#returning-a-view-versus-a-copy\n",
            "  crypto_df['optimal_spread'][i] = 0\n",
            "<ipython-input-2-e728b7018b23>:6: SettingWithCopyWarning: \n",
            "A value is trying to be set on a copy of a slice from a DataFrame\n",
            "\n",
            "See the caveats in the documentation: https://pandas.pydata.org/pandas-docs/stable/user_guide/indexing.html#returning-a-view-versus-a-copy\n",
            "  crypto_df['optimal_spread'][i] = 1\n"
          ]
        }
      ]
    },
    {
      "cell_type": "markdown",
      "source": [
        "#Train Dataset"
      ],
      "metadata": {
        "id": "C4ggQNO5QQ7Z"
      }
    },
    {
      "cell_type": "code",
      "source": [
        "X = crypto_df[['spread']].values # Features\n",
        "y = crypto_df['open'].values # Target variable / label"
      ],
      "metadata": {
        "id": "2xV8iUpPQPG9"
      },
      "execution_count": null,
      "outputs": []
    },
    {
      "cell_type": "code",
      "source": [
        "# Split dataset into training set and test set\n",
        "X_train, X_test, y_train, y_test = train_test_split(X, y, test_size=0.30, random_state=1) # 70% training and 30% test"
      ],
      "metadata": {
        "id": "_UHL2qEKcLcw"
      },
      "execution_count": null,
      "outputs": []
    },
    {
      "cell_type": "markdown",
      "source": [
        "##find the correct depth of decision tree"
      ],
      "metadata": {
        "id": "GcteOjc3KYWB"
      }
    },
    {
      "cell_type": "code",
      "source": [
        "# function for fitting trees of various depths on the training data using cross-validation\n",
        "def run_cross_validation_on_trees(X, y, tree_depths, cv=5, scoring='r2'):\n",
        "    cv_scores_list = []\n",
        "    cv_scores_std = []\n",
        "    cv_scores_mean = []\n",
        "    accuracy_scores = []\n",
        "    for depth in tree_depths:\n",
        "        tree_model = DecisionTreeRegressor(max_depth=depth)\n",
        "        cv_scores = cross_val_score(tree_model, X, y, cv=cv, scoring=scoring)\n",
        "        cv_scores_list.append(cv_scores)\n",
        "        cv_scores_mean.append(cv_scores.mean())\n",
        "        cv_scores_std.append(cv_scores.std())\n",
        "        accuracy_scores.append(tree_model.fit(X, y).score(X, y))\n",
        "    cv_scores_mean = np.array(cv_scores_mean)\n",
        "    cv_scores_std = np.array(cv_scores_std)\n",
        "    accuracy_scores = np.array(accuracy_scores)\n",
        "    return cv_scores_mean, cv_scores_std, accuracy_scores"
      ],
      "metadata": {
        "id": "WnWlIHqjKcUZ"
      },
      "execution_count": null,
      "outputs": []
    },
    {
      "cell_type": "code",
      "source": [
        "# function for plotting cross-validation results\n",
        "def plot_cross_validation_on_trees(depths, cv_scores_mean, cv_scores_std, accuracy_scores, title):\n",
        "    fig, ax = plt.subplots(1,1, figsize=(15,5))\n",
        "    ax.plot(depths, cv_scores_mean, '-o', label='mean cross-validation accuracy', alpha=0.9)\n",
        "    ax.fill_between(depths, cv_scores_mean-2*cv_scores_std, cv_scores_mean+2*cv_scores_std, alpha=0.2)\n",
        "    ylim = plt.ylim()\n",
        "    ax.plot(depths, accuracy_scores, '-*', label='train correlation', alpha=1)\n",
        "    ax.set_title(title, fontsize=16)\n",
        "    ax.set_xlabel('Tree depth', fontsize=14)\n",
        "    ax.set_ylabel('R Squared', fontsize=14)\n",
        "    ax.set_ylim(0, 1.5)\n",
        "    ax.set_xticks(depths)\n",
        "    ax.legend()"
      ],
      "metadata": {
        "id": "SlLYVynkOhwi"
      },
      "execution_count": null,
      "outputs": []
    },
    {
      "cell_type": "code",
      "source": [
        "# function for plotting cross-validation results\n",
        "def plot_cross_validation_on_trees(depths, cv_scores_mean, cv_scores_std, accuracy_scores, title):\n",
        "    fig, ax = plt.subplots(1,1, figsize=(15,5))\n",
        "    ax.plot(depths, cv_scores_mean, '-o', label='mean cross-validation accuracy', alpha=0.9)\n",
        "    ax.fill_between(depths, cv_scores_mean-2*cv_scores_std, cv_scores_mean+2*cv_scores_std, alpha=0.2)\n",
        "    ylim = plt.ylim()\n",
        "    ax.plot(depths, accuracy_scores, '-*', label='train accuracy', alpha=1)\n",
        "    ax.set_title(title, fontsize=16)\n",
        "    ax.set_xlabel('Tree depth', fontsize=14)\n",
        "    ax.set_ylabel('Cross Validation of r2 values', fontsize=14)\n",
        "    ax.set_ylim(ylim)\n",
        "    ax.set_xticks(depths)\n",
        "    ax.legend()"
      ],
      "metadata": {
        "id": "xPNXXsc4Oi-W"
      },
      "execution_count": null,
      "outputs": []
    },
    {
      "cell_type": "code",
      "source": [
        "# fitting trees of depth 1 to 24\n",
        "sm_tree_depths = range(1,25)\n",
        "sm_cv_scores_mean, sm_cv_scores_std, sm_accuracy_scores = run_cross_validation_on_trees(X_train, y_train, sm_tree_depths)\n",
        "\n",
        "# plotting accuracy\n",
        "plot_cross_validation_on_trees(sm_tree_depths, sm_cv_scores_mean, sm_cv_scores_std, sm_accuracy_scores, \n",
        "                               'R2 per decision tree depth on training data')"
      ],
      "metadata": {
        "id": "OuZN9kjgO_wI",
        "colab": {
          "base_uri": "https://localhost:8080/",
          "height": 463
        },
        "outputId": "2e12f485-6737-47ac-f77c-d1cd0d4a01a5"
      },
      "execution_count": null,
      "outputs": [
        {
          "output_type": "display_data",
          "data": {
            "text/plain": [
              "<Figure size 1500x500 with 1 Axes>"
            ],
            "image/png": "[encoded data removed]"
          },
          "metadata": {}
        }
      ]
    },
    {
      "cell_type": "code",
      "source": [
        "idx_max = sm_cv_scores_mean.argmax()\n",
        "sm_best_tree_depth = sm_tree_depths[idx_max]\n",
        "sm_best_tree_cv_score = sm_cv_scores_mean[idx_max]\n",
        "sm_best_tree_cv_score_std = sm_cv_scores_std[idx_max]\n",
        "print('The depth-{} tree achieves the best mean cross-validation r2 {} +/- {}% on training dataset'.format(\n",
        "      sm_best_tree_depth, round(sm_best_tree_cv_score,5), round(sm_best_tree_cv_score_std*100, 5)))\n"
      ],
      "metadata": {
        "id": "nRhsrNxTOsMe",
        "colab": {
          "base_uri": "https://localhost:8080/"
        },
        "outputId": "41cae9c4-ac39-4d2e-bffd-547d6453f6db"
      },
      "execution_count": null,
      "outputs": [
        {
          "output_type": "stream",
          "name": "stdout",
          "text": [
            "The depth-4 tree achieves the best mean cross-validation r2 0.78518 +/- 1.66816% on training dataset\n"
          ]
        }
      ]
    },
    {
      "cell_type": "markdown",
      "source": [
        "#Evaluate Real World Accuracy"
      ],
      "metadata": {
        "id": "9-LR40EHKIpy"
      }
    },
    {
      "cell_type": "code",
      "source": [
        "# NOTE - are you classifying or creating a regression model - I think a regression which means you would do something like this ...\n",
        "\n",
        "# Fitting Decision Tree Regression to the dataset\n",
        "regressor = DecisionTreeRegressor()\n",
        "regressor.fit(X_train.reshape(-1,1), y_train.reshape(-1,1))\n",
        "\n",
        "#Predict the response for test dataset\n",
        "y_pred = regressor.predict(X_test.reshape(-1,1))\n",
        "\n",
        "# Model Accuracy, how often is the classifier correct?\n",
        "regressor.score(X_test.reshape(-1,1), y_test.reshape(-1,1))"
      ],
      "metadata": {
        "id": "TukrNATNcUzm",
        "colab": {
          "base_uri": "https://localhost:8080/"
        },
        "outputId": "dc2e9918-bb10-4233-9114-aaf22fd6c8cc"
      },
      "execution_count": null,
      "outputs": [
        {
          "output_type": "execute_result",
          "data": {
            "text/plain": [
              "0.6481161763386027"
            ]
          },
          "metadata": {},
          "execution_count": 27
        }
      ]
    },
    {
      "cell_type": "code",
      "source": [
        "scoring_metric = 'r2'\n",
        "cv_scores = cross_val_score(regressor, X, y, cv=5, scoring=scoring_metric)\n",
        "print(f'Cross-Validation Scores: {cv_scores}')\n",
        "print(f'Average Score: {cv_scores.mean()}')\n",
        "print(f'Standard Deviation: {cv_scores.std()}')"
      ],
      "metadata": {
        "id": "K7ZXrkGgOK5t",
        "colab": {
          "base_uri": "https://localhost:8080/"
        },
        "outputId": "d9c44615-e2f5-4da6-daf2-6908b8a45b89"
      },
      "execution_count": null,
      "outputs": [
        {
          "output_type": "stream",
          "name": "stdout",
          "text": [
            "Cross-Validation Scores: [-36.34736949 -14.90672523 -30.79593121  -3.19801609  -3.48285104]\n",
            "Average Score: -17.7461786128215\n",
            "Standard Deviation: 13.707329328125914\n"
          ]
        }
      ]
    },
    {
      "cell_type": "markdown",
      "source": [
        "#Prediction"
      ],
      "metadata": {
        "id": "qO4VfH9U594K"
      }
    },
    {
      "cell_type": "code",
      "source": [
        "# Reshape the input data to a 2D array with a single feature (1 column)\n",
        "X_test = np.array([5.0]).reshape(-1, 1)\n",
        "\n",
        "# Perform prediction\n",
        "prediction = regressor.predict(X_test)\n",
        "\n",
        "# Print the prediction\n",
        "print(prediction)"
      ],
      "metadata": {
        "id": "Eisw6Kwh61K_",
        "colab": {
          "base_uri": "https://localhost:8080/"
        },
        "outputId": "f449d916-9ba7-488a-fb29-a0bc5f15303c"
      },
      "execution_count": null,
      "outputs": [
        {
          "output_type": "stream",
          "name": "stdout",
          "text": [
            "[106.21]\n"
          ]
        }
      ]
    },
    {
      "cell_type": "code",
      "source": [
        "crypto_df.head()"
      ],
      "metadata": {
        "colab": {
          "base_uri": "https://localhost:8080/",
          "height": 206
        },
        "id": "qJ171eUAC1Ni",
        "outputId": "bb3bca75-f0d8-4b07-821e-da4c9de9a7ee"
      },
      "execution_count": null,
      "outputs": [
        {
          "output_type": "execute_result",
          "data": {
            "text/plain": [
              "      slug symbol     name        date  ranknow    open    high     low  \\\n",
              "0  bitcoin    BTC  Bitcoin  2013-04-28        1  135.30  135.98  132.10   \n",
              "1  bitcoin    BTC  Bitcoin  2013-04-29        1  134.44  147.49  134.00   \n",
              "2  bitcoin    BTC  Bitcoin  2013-04-30        1  144.00  146.93  134.05   \n",
              "3  bitcoin    BTC  Bitcoin  2013-05-01        1  139.00  139.89  107.72   \n",
              "4  bitcoin    BTC  Bitcoin  2013-05-02        1  116.38  125.60   92.28   \n",
              "\n",
              "    close  volume        market  close_ratio  spread  optimal_spread  \n",
              "0  134.21     0.0  1.488567e+09       0.5438    3.88               0  \n",
              "1  144.54     0.0  1.603769e+09       0.7813   13.49               1  \n",
              "2  139.00     0.0  1.542813e+09       0.3843   12.88               0  \n",
              "3  116.99     0.0  1.298955e+09       0.2882   32.17               0  \n",
              "4  105.21     0.0  1.168517e+09       0.3881   33.32               0  "
            ],
            "text/html": [
              "\n",
              "  <div id=\"df-48b4d8ea-cc31-4ab2-afdb-3c972af22885\">\n",
              "    <div class=\"colab-df-container\">\n",
              "      <div>\n",
              "<style scoped>\n",
              "    .dataframe tbody tr th:only-of-type {\n",
              "        vertical-align: middle;\n",
              "    }\n",
              "\n",
              "    .dataframe tbody tr th {\n",
              "        vertical-align: top;\n",
              "    }\n",
              "\n",
              "    .dataframe thead th {\n",
              "        text-align: right;\n",
              "    }\n",
              "</style>\n",
              "<table border=\"1\" class=\"dataframe\">\n",
              "  <thead>\n",
              "    <tr style=\"text-align: right;\">\n",
              "      <th></th>\n",
              "      <th>slug</th>\n",
              "      <th>symbol</th>\n",
              "      <th>name</th>\n",
              "      <th>date</th>\n",
              "      <th>ranknow</th>\n",
              "      <th>open</th>\n",
              "      <th>high</th>\n",
              "      <th>low</th>\n",
              "      <th>close</th>\n",
              "      <th>volume</th>\n",
              "      <th>market</th>\n",
              "      <th>close_ratio</th>\n",
              "      <th>spread</th>\n",
              "      <th>optimal_spread</th>\n",
              "    </tr>\n",
              "  </thead>\n",
              "  <tbody>\n",
              "    <tr>\n",
              "      <th>0</th>\n",
              "      <td>bitcoin</td>\n",
              "      <td>BTC</td>\n",
              "      <td>Bitcoin</td>\n",
              "      <td>2013-04-28</td>\n",
              "      <td>1</td>\n",
              "      <td>135.30</td>\n",
              "      <td>135.98</td>\n",
              "      <td>132.10</td>\n",
              "      <td>134.21</td>\n",
              "      <td>0.0</td>\n",
              "      <td>1.488567e+09</td>\n",
              "      <td>0.5438</td>\n",
              "      <td>3.88</td>\n",
              "      <td>0</td>\n",
              "    </tr>\n",
              "    <tr>\n",
              "      <th>1</th>\n",
              "      <td>bitcoin</td>\n",
              "      <td>BTC</td>\n",
              "      <td>Bitcoin</td>\n",
              "      <td>2013-04-29</td>\n",
              "      <td>1</td>\n",
              "      <td>134.44</td>\n",
              "      <td>147.49</td>\n",
              "      <td>134.00</td>\n",
              "      <td>144.54</td>\n",
              "      <td>0.0</td>\n",
              "      <td>1.603769e+09</td>\n",
              "      <td>0.7813</td>\n",
              "      <td>13.49</td>\n",
              "      <td>1</td>\n",
              "    </tr>\n",
              "    <tr>\n",
              "      <th>2</th>\n",
              "      <td>bitcoin</td>\n",
              "      <td>BTC</td>\n",
              "      <td>Bitcoin</td>\n",
              "      <td>2013-04-30</td>\n",
              "      <td>1</td>\n",
              "      <td>144.00</td>\n",
              "      <td>146.93</td>\n",
              "      <td>134.05</td>\n",
              "      <td>139.00</td>\n",
              "      <td>0.0</td>\n",
              "      <td>1.542813e+09</td>\n",
              "      <td>0.3843</td>\n",
              "      <td>12.88</td>\n",
              "      <td>0</td>\n",
              "    </tr>\n",
              "    <tr>\n",
              "      <th>3</th>\n",
              "      <td>bitcoin</td>\n",
              "      <td>BTC</td>\n",
              "      <td>Bitcoin</td>\n",
              "      <td>2013-05-01</td>\n",
              "      <td>1</td>\n",
              "      <td>139.00</td>\n",
              "      <td>139.89</td>\n",
              "      <td>107.72</td>\n",
              "      <td>116.99</td>\n",
              "      <td>0.0</td>\n",
              "      <td>1.298955e+09</td>\n",
              "      <td>0.2882</td>\n",
              "      <td>32.17</td>\n",
              "      <td>0</td>\n",
              "    </tr>\n",
              "    <tr>\n",
              "      <th>4</th>\n",
              "      <td>bitcoin</td>\n",
              "      <td>BTC</td>\n",
              "      <td>Bitcoin</td>\n",
              "      <td>2013-05-02</td>\n",
              "      <td>1</td>\n",
              "      <td>116.38</td>\n",
              "      <td>125.60</td>\n",
              "      <td>92.28</td>\n",
              "      <td>105.21</td>\n",
              "      <td>0.0</td>\n",
              "      <td>1.168517e+09</td>\n",
              "      <td>0.3881</td>\n",
              "      <td>33.32</td>\n",
              "      <td>0</td>\n",
              "    </tr>\n",
              "  </tbody>\n",
              "</table>\n",
              "</div>\n",
              "      <button class=\"colab-df-convert\" onclick=\"convertToInteractive('df-48b4d8ea-cc31-4ab2-afdb-3c972af22885')\"\n",
              "              title=\"Convert this dataframe to an interactive table.\"\n",
              "              style=\"display:none;\">\n",
              "        \n",
              "  <svg xmlns=\"http://www.w3.org/2000/svg\" height=\"24px\"viewBox=\"0 0 24 24\"\n",
              "       width=\"24px\">\n",
              "    <path d=\"M0 0h24v24H0V0z\" fill=\"none\"/>\n",
              "    <path d=\"M18.56 5.44l.94 2.06.94-2.06 2.06-.94-2.06-.94-.94-2.06-.94 2.06-2.06.94zm-11 1L8.5 8.5l.94-2.06 2.06-.94-2.06-.94L8.5 2.5l-.94 2.06-2.06.94zm10 10l.94 2.06.94-2.06 2.06-.94-2.06-.94-.94-2.06-.94 2.06-2.06.94z\"/><path d=\"M17.41 7.96l-1.37-1.37c-.4-.4-.92-.59-1.43-.59-.52 0-1.04.2-1.43.59L10.3 9.45l-7.72 7.72c-.78.78-.78 2.05 0 2.83L4 21.41c.39.39.9.59 1.41.59.51 0 1.02-.2 1.41-.59l7.78-7.78 2.81-2.81c.8-.78.8-2.07 0-2.86zM5.41 20L4 18.59l7.72-7.72 1.47 1.35L5.41 20z\"/>\n",
              "  </svg>\n",
              "      </button>\n",
              "      \n",
              "  <style>\n",
              "    .colab-df-container {\n",
              "      display:flex;\n",
              "      flex-wrap:wrap;\n",
              "      gap: 12px;\n",
              "    }\n",
              "\n",
              "    .colab-df-convert {\n",
              "      background-color: #E8F0FE;\n",
              "      border: none;\n",
              "      border-radius: 50%;\n",
              "      cursor: pointer;\n",
              "      display: none;\n",
              "      fill: #1967D2;\n",
              "      height: 32px;\n",
              "      padding: 0 0 0 0;\n",
              "      width: 32px;\n",
              "    }\n",
              "\n",
              "    .colab-df-convert:hover {\n",
              "      background-color: #E2EBFA;\n",
              "      box-shadow: 0px 1px 2px rgba(60, 64, 67, 0.3), 0px 1px 3px 1px rgba(60, 64, 67, 0.15);\n",
              "      fill: #174EA6;\n",
              "    }\n",
              "\n",
              "    [theme=dark] .colab-df-convert {\n",
              "      background-color: #3B4455;\n",
              "      fill: #D2E3FC;\n",
              "    }\n",
              "\n",
              "    [theme=dark] .colab-df-convert:hover {\n",
              "      background-color: #434B5C;\n",
              "      box-shadow: 0px 1px 3px 1px rgba(0, 0, 0, 0.15);\n",
              "      filter: drop-shadow(0px 1px 2px rgba(0, 0, 0, 0.3));\n",
              "      fill: #FFFFFF;\n",
              "    }\n",
              "  </style>\n",
              "\n",
              "      <script>\n",
              "        const buttonEl =\n",
              "          document.querySelector('#df-48b4d8ea-cc31-4ab2-afdb-3c972af22885 button.colab-df-convert');\n",
              "        buttonEl.style.display =\n",
              "          google.colab.kernel.accessAllowed ? 'block' : 'none';\n",
              "\n",
              "        async function convertToInteractive(key) {\n",
              "          const element = document.querySelector('#df-48b4d8ea-cc31-4ab2-afdb-3c972af22885');\n",
              "          const dataTable =\n",
              "            await google.colab.kernel.invokeFunction('convertToInteractive',\n",
              "                                                     [key], {});\n",
              "          if (!dataTable) return;\n",
              "\n",
              "          const docLinkHtml = 'Like what you see? Visit the ' +\n",
              "            '<a target=\"_blank\" href=https://colab.research.google.com/notebooks/data_table.ipynb>data table notebook</a>'\n",
              "            + ' to learn more about interactive tables.';\n",
              "          element.innerHTML = '';\n",
              "          dataTable['output_type'] = 'display_data';\n",
              "          await google.colab.output.renderOutput(dataTable, element);\n",
              "          const docLink = document.createElement('div');\n",
              "          docLink.innerHTML = docLinkHtml;\n",
              "          element.appendChild(docLink);\n",
              "        }\n",
              "      </script>\n",
              "    </div>\n",
              "  </div>\n",
              "  "
            ]
          },
          "metadata": {},
          "execution_count": 30
        }
      ]
    },
    {
      "cell_type": "code",
      "source": [
        "bitcoin_df.head()"
      ],
      "metadata": {
        "colab": {
          "base_uri": "https://localhost:8080/",
          "height": 112
        },
        "id": "zCRleu6LZoM3",
        "outputId": "03abe110-fb51-4e14-9df4-ebef5ffe9200"
      },
      "execution_count": null,
      "outputs": [
        {
          "output_type": "execute_result",
          "data": {
            "text/plain": [
              "      Name Symbol  Price  Rank                      Date\n",
              "0  Bitcoin    btc  27137   1.0  2023-05-28T01:33:18.258Z\n",
              "0  Bitcoin    btc  27137   1.0  2023-05-28T01:33:18.258Z"
            ],
            "text/html": [
              "\n",
              "  <div id=\"df-fc5695d7-c33e-486c-87d1-4fafdaa391d1\">\n",
              "    <div class=\"colab-df-container\">\n",
              "      <div>\n",
              "<style scoped>\n",
              "    .dataframe tbody tr th:only-of-type {\n",
              "        vertical-align: middle;\n",
              "    }\n",
              "\n",
              "    .dataframe tbody tr th {\n",
              "        vertical-align: top;\n",
              "    }\n",
              "\n",
              "    .dataframe thead th {\n",
              "        text-align: right;\n",
              "    }\n",
              "</style>\n",
              "<table border=\"1\" class=\"dataframe\">\n",
              "  <thead>\n",
              "    <tr style=\"text-align: right;\">\n",
              "      <th></th>\n",
              "      <th>Name</th>\n",
              "      <th>Symbol</th>\n",
              "      <th>Price</th>\n",
              "      <th>Rank</th>\n",
              "      <th>Date</th>\n",
              "    </tr>\n",
              "  </thead>\n",
              "  <tbody>\n",
              "    <tr>\n",
              "      <th>0</th>\n",
              "      <td>Bitcoin</td>\n",
              "      <td>btc</td>\n",
              "      <td>27137</td>\n",
              "      <td>1.0</td>\n",
              "      <td>2023-05-28T01:33:18.258Z</td>\n",
              "    </tr>\n",
              "    <tr>\n",
              "      <th>0</th>\n",
              "      <td>Bitcoin</td>\n",
              "      <td>btc</td>\n",
              "      <td>27137</td>\n",
              "      <td>1.0</td>\n",
              "      <td>2023-05-28T01:33:18.258Z</td>\n",
              "    </tr>\n",
              "  </tbody>\n",
              "</table>\n",
              "</div>\n",
              "      <button class=\"colab-df-convert\" onclick=\"convertToInteractive('df-fc5695d7-c33e-486c-87d1-4fafdaa391d1')\"\n",
              "              title=\"Convert this dataframe to an interactive table.\"\n",
              "              style=\"display:none;\">\n",
              "        \n",
              "  <svg xmlns=\"http://www.w3.org/2000/svg\" height=\"24px\"viewBox=\"0 0 24 24\"\n",
              "       width=\"24px\">\n",
              "    <path d=\"M0 0h24v24H0V0z\" fill=\"none\"/>\n",
              "    <path d=\"M18.56 5.44l.94 2.06.94-2.06 2.06-.94-2.06-.94-.94-2.06-.94 2.06-2.06.94zm-11 1L8.5 8.5l.94-2.06 2.06-.94-2.06-.94L8.5 2.5l-.94 2.06-2.06.94zm10 10l.94 2.06.94-2.06 2.06-.94-2.06-.94-.94-2.06-.94 2.06-2.06.94z\"/><path d=\"M17.41 7.96l-1.37-1.37c-.4-.4-.92-.59-1.43-.59-.52 0-1.04.2-1.43.59L10.3 9.45l-7.72 7.72c-.78.78-.78 2.05 0 2.83L4 21.41c.39.39.9.59 1.41.59.51 0 1.02-.2 1.41-.59l7.78-7.78 2.81-2.81c.8-.78.8-2.07 0-2.86zM5.41 20L4 18.59l7.72-7.72 1.47 1.35L5.41 20z\"/>\n",
              "  </svg>\n",
              "      </button>\n",
              "      \n",
              "  <style>\n",
              "    .colab-df-container {\n",
              "      display:flex;\n",
              "      flex-wrap:wrap;\n",
              "      gap: 12px;\n",
              "    }\n",
              "\n",
              "    .colab-df-convert {\n",
              "      background-color: #E8F0FE;\n",
              "      border: none;\n",
              "      border-radius: 50%;\n",
              "      cursor: pointer;\n",
              "      display: none;\n",
              "      fill: #1967D2;\n",
              "      height: 32px;\n",
              "      padding: 0 0 0 0;\n",
              "      width: 32px;\n",
              "    }\n",
              "\n",
              "    .colab-df-convert:hover {\n",
              "      background-color: #E2EBFA;\n",
              "      box-shadow: 0px 1px 2px rgba(60, 64, 67, 0.3), 0px 1px 3px 1px rgba(60, 64, 67, 0.15);\n",
              "      fill: #174EA6;\n",
              "    }\n",
              "\n",
              "    [theme=dark] .colab-df-convert {\n",
              "      background-color: #3B4455;\n",
              "      fill: #D2E3FC;\n",
              "    }\n",
              "\n",
              "    [theme=dark] .colab-df-convert:hover {\n",
              "      background-color: #434B5C;\n",
              "      box-shadow: 0px 1px 3px 1px rgba(0, 0, 0, 0.15);\n",
              "      filter: drop-shadow(0px 1px 2px rgba(0, 0, 0, 0.3));\n",
              "      fill: #FFFFFF;\n",
              "    }\n",
              "  </style>\n",
              "\n",
              "      <script>\n",
              "        const buttonEl =\n",
              "          document.querySelector('#df-fc5695d7-c33e-486c-87d1-4fafdaa391d1 button.colab-df-convert');\n",
              "        buttonEl.style.display =\n",
              "          google.colab.kernel.accessAllowed ? 'block' : 'none';\n",
              "\n",
              "        async function convertToInteractive(key) {\n",
              "          const element = document.querySelector('#df-fc5695d7-c33e-486c-87d1-4fafdaa391d1');\n",
              "          const dataTable =\n",
              "            await google.colab.kernel.invokeFunction('convertToInteractive',\n",
              "                                                     [key], {});\n",
              "          if (!dataTable) return;\n",
              "\n",
              "          const docLinkHtml = 'Like what you see? Visit the ' +\n",
              "            '<a target=\"_blank\" href=https://colab.research.google.com/notebooks/data_table.ipynb>data table notebook</a>'\n",
              "            + ' to learn more about interactive tables.';\n",
              "          element.innerHTML = '';\n",
              "          dataTable['output_type'] = 'display_data';\n",
              "          await google.colab.output.renderOutput(dataTable, element);\n",
              "          const docLink = document.createElement('div');\n",
              "          docLink.innerHTML = docLinkHtml;\n",
              "          element.appendChild(docLink);\n",
              "        }\n",
              "      </script>\n",
              "    </div>\n",
              "  </div>\n",
              "  "
            ]
          },
          "metadata": {},
          "execution_count": 29
        }
      ]
    }
  ]
}