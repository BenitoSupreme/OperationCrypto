{
  "nbformat": 4,
  "nbformat_minor": 0,
  "metadata": {
    "colab": {
      "provenance": [],
      "authorship_tag": "ABX9TyM7YwJBlwU187o1xVyFygQE",
      "include_colab_link": true
    },
    "kernelspec": {
      "name": "python3",
      "display_name": "Python 3"
    },
    "language_info": {
      "name": "python"
    }
  },
  "cells": [
    {
      "cell_type": "markdown",
      "metadata": {
        "id": "view-in-github",
        "colab_type": "text"
      },
      "source": [
        "<a href=\"https://colab.research.google.com/github/BenitoSupreme/OperationCrypto/blob/main/Dynamic_Scrape_Wireframe.ipynb\" target=\"_parent\"><img src=\"https://colab.research.google.com/assets/colab-badge.svg\" alt=\"Open In Colab\"/></a>"
      ]
    },
    {
      "cell_type": "code",
      "execution_count": 4,
      "metadata": {
        "colab": {
          "base_uri": "https://localhost:8080/"
        },
        "id": "CmZ5rMKsYirB",
        "outputId": "dbee3358-ab2d-4654-850a-4b7c167ee82e"
      },
      "outputs": [
        {
          "output_type": "stream",
          "name": "stdout",
          "text": [
            "Looking in indexes: https://pypi.org/simple, https://us-python.pkg.dev/colab-wheels/public/simple/\n",
            "Requirement already satisfied: requests in /usr/local/lib/python3.10/dist-packages (2.27.1)\n",
            "Requirement already satisfied: beautifulsoup4 in /usr/local/lib/python3.10/dist-packages (4.11.2)\n",
            "Requirement already satisfied: urllib3<1.27,>=1.21.1 in /usr/local/lib/python3.10/dist-packages (from requests) (1.26.15)\n",
            "Requirement already satisfied: certifi>=2017.4.17 in /usr/local/lib/python3.10/dist-packages (from requests) (2022.12.7)\n",
            "Requirement already satisfied: charset-normalizer~=2.0.0 in /usr/local/lib/python3.10/dist-packages (from requests) (2.0.12)\n",
            "Requirement already satisfied: idna<4,>=2.5 in /usr/local/lib/python3.10/dist-packages (from requests) (3.4)\n",
            "Requirement already satisfied: soupsieve>1.2 in /usr/local/lib/python3.10/dist-packages (from beautifulsoup4) (2.4.1)\n"
          ]
        }
      ],
      "source": [
        "!pip install requests beautifulsoup4\n",
        "from bs4 import BeautifulSoup\n",
        "import requests\n",
        "\n",
        "url = \"https://www.coindesk.com/\""
      ]
    },
    {
      "cell_type": "code",
      "source": [
        "# Send a GET request to the webpage\n",
        "response = requests.get(url)\n",
        "\n",
        "# Parse the HTML content\n",
        "soup = BeautifulSoup(response.content, \"html.parser\")\n",
        "\n",
        "# Find the article links\n",
        "article_links = soup.select(\"#fusion-app > div.high-impact-vertstyles__StickyHighImpactLayoutWrapperStyled-cuy9q8-1.hPdtnJ > div > div > main > div > section:nth-child(2) > div > div.leaderboard > div > div:nth-child(2) > div > div > div.featured-cardstyles__FeaturedCardWrapper-caozbq-2.gtlGpD > a.card-titlestyles__CardTitleWrapper-sc-1ptmy9y-0.junCw.card-title-link\")\n",
        "print(article_links)\n",
        "\n",
        "# Extract the hrefs of the top three newest articles\n",
        "newest_article_links = article_links[:3]\n",
        "\n",
        "# Process and print the article details\n",
        "# for link in newest_article_links:\n",
        "#     article_url = link[\"href\"]\n",
        "    \n",
        "#     # Visit the article page\n",
        "#     article_response = requests.get(article_url)\n",
        "#     article_soup = BeautifulSoup(article_response.content, \"html.parser\")\n",
        "    \n",
        "#     # Extract the article text\n",
        "#     article_content = article_soup.find(\"div\", class_=\"article-content\")\n",
        "#     article_text = article_content.get_text(separator=\" \")\n",
        "    \n",
        "#     print(\"URL:\", article_url)\n",
        "#     print(\"Article Text:\", article_text)\n",
        "#     print(\"-\" * 50)\n"
      ],
      "metadata": {
        "colab": {
          "base_uri": "https://localhost:8080/"
        },
        "id": "bqxVjFYe05ff",
        "outputId": "e0b77036-ed46-4138-e27c-f96d2f309d6f"
      },
      "execution_count": 24,
      "outputs": [
        {
          "output_type": "stream",
          "name": "stdout",
          "text": [
            "[<a class=\"card-titlestyles__CardTitleWrapper-sc-1ptmy9y-0 junCw card-title-link\" href=\"/business/2023/06/12/cardano-developer-iog-restructures-to-venture-studio-model-lays-off-some-staff/\"><div class=\"card-title\"><h2 class=\"typography__StyledTypography-owin6q-0 iNEzYl\">Cardano Developer IOG Restructures to Venture Studio Model, Lays Off Some Staff</h2></div></a>]\n"
          ]
        }
      ]
    }
  ]
}