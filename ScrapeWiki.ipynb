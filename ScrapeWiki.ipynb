{
  "nbformat": 4,
  "nbformat_minor": 0,
  "metadata": {
    "colab": {
      "provenance": [],
      "authorship_tag": "ABX9TyMP5vj4cwq0FIkKN6Y7DF96",
      "include_colab_link": true
    },
    "kernelspec": {
      "name": "python3",
      "display_name": "Python 3"
    },
    "language_info": {
      "name": "python"
    }
  },
  "cells": [
    {
      "cell_type": "markdown",
      "metadata": {
        "id": "view-in-github",
        "colab_type": "text"
      },
      "source": [
        "<a href=\"https://colab.research.google.com/github/BenitoSupreme/OperationCrypto/blob/main/ScrapeWiki.ipynb\" target=\"_parent\"><img src=\"https://colab.research.google.com/assets/colab-badge.svg\" alt=\"Open In Colab\"/></a>"
      ]
    },
    {
      "cell_type": "code",
      "execution_count": null,
      "metadata": {
        "id": "ipKSTvSyfKbr"
      },
      "outputs": [],
      "source": [
        "#import our modules and packages that we will need to scrape a website\n",
        "import csv\n",
        "from bs4 import BeautifulSoup\n",
        "import requests\n",
        "import time\n",
        "from google.colab import files"
      ]
    },
    {
      "cell_type": "code",
      "source": [
        "#grab every alphabetical list with our script\n",
        "def scrape_content(url):\n",
        "  time.sleep(2)\n",
        "  #headers so server host can contact me if issues arise\n",
        "  headers = {\"user-agent\" : \"Mozilla/5.0 (Windows NT 10.0; Win64; x64) AppleWebKit/537.36 (KHTML, like Gecko) Chrome/113.0.0.0 Safari/537.36\",\n",
        "              \"from\" : \"wiki\"}\n",
        "  #open the website\n",
        "  page = requests.get(url)\n",
        "  page_content = page.content\n",
        "\n",
        "  #parse the page with Beautiful Soup Library\n",
        "  soup = BeautifulSoup(page_content, \"html.parser\") # contains html of whole webpage\n",
        "  # print('this is what soup is', soup) \n",
        "  content = soup.find(\"div\", class_= \"mw-content-ltr\") #finds first tag with given class and sets equal to variable\n",
        "  # print('this is what content is', content)\n",
        "  all_groupings = content.find_all(\"div\", class_= \"mw-category-group\") #all groupings is empty?? is that right?\n",
        "  # print('this is what all_groupsings is', all_groupings)\n",
        "\n",
        "  #make empty array for data\n",
        "  rows = []\n",
        "\n",
        "  # print('before the for loop works')\n",
        "  for grouping in all_groupings:\n",
        "    names_list = grouping.find(\"ul\")\n",
        "    category = grouping.find(\"h3\").get_text()\n",
        "    alphabetical_names = names_list.find_all(\"li\")\n",
        "    # print('hello')\n",
        "    #create a row of information that contains the name, the link, and the letter connected to each name\n",
        "    for alphabetical_name in alphabetical_names:\n",
        "      #get name\n",
        "      name = alphabetical_name.text\n",
        "      #get the link\n",
        "      anchortag = alphabetical_name.find(\"a\", href = True)\n",
        "      link = anchortag[\"href\"]\n",
        "      #get the letter\n",
        "      letter_name = category\n",
        "      #make a data dict that will be written into the csv\n",
        "      row = {\"name\": name,\n",
        "            \"link\": link, \n",
        "            \"letter_name\": letter_name}\n",
        "      rows.append(row)\n",
        "\n",
        "#in case we pass multiple url perameters \n",
        "# for url in urls:\n",
        "#   scrape_content(url)\n",
        "\n",
        "  #make a new csv into which we will write all the rows\n",
        "  with open(\"all-women-computer-scientists.csv\", \"w+\") as csvfile:\n",
        "    #these are the header names\n",
        "    fieldnames = [\"name\", \"link\", \"letter_name\"]\n",
        "    #this creates your csv\n",
        "    writer = csv.DictWriter(csvfile, fieldnames=fieldnames)\n",
        "    #this writes in the first row, which are the headers\n",
        "    writer.writeheader()\n",
        "\n",
        "    #loops through rows (the array I set at the beginning and have updated throughout)\n",
        "    for row in rows: #nothing in rows right now ;/\n",
        "    #takes each row and writes it into csv\n",
        "      writer.writerow(row)\n",
        "\n",
        "  #download the CSV file \n",
        "  files.download(\"all-women-computer-scientists.csv\")\n"
      ],
      "metadata": {
        "id": "ED9bo95If_tv"
      },
      "execution_count": 33,
      "outputs": []
    },
    {
      "cell_type": "code",
      "source": [
        "scrape_content(\"https://en.wikipedia.org/wiki/Category:Women_computer_scientists\")"
      ],
      "metadata": {
        "colab": {
          "base_uri": "https://localhost:8080/",
          "height": 17
        },
        "id": "JEFBp8CGxzoE",
        "outputId": "2d7e06d2-994b-4589-f8bb-fcedecdb6146"
      },
      "execution_count": 34,
      "outputs": [
        {
          "output_type": "display_data",
          "data": {
            "text/plain": [
              "<IPython.core.display.Javascript object>"
            ],
            "application/javascript": [
              "\n",
              "    async function download(id, filename, size) {\n",
              "      if (!google.colab.kernel.accessAllowed) {\n",
              "        return;\n",
              "      }\n",
              "      const div = document.createElement('div');\n",
              "      const label = document.createElement('label');\n",
              "      label.textContent = `Downloading \"${filename}\": `;\n",
              "      div.appendChild(label);\n",
              "      const progress = document.createElement('progress');\n",
              "      progress.max = size;\n",
              "      div.appendChild(progress);\n",
              "      document.body.appendChild(div);\n",
              "\n",
              "      const buffers = [];\n",
              "      let downloaded = 0;\n",
              "\n",
              "      const channel = await google.colab.kernel.comms.open(id);\n",
              "      // Send a message to notify the kernel that we're ready.\n",
              "      channel.send({})\n",
              "\n",
              "      for await (const message of channel.messages) {\n",
              "        // Send a message to notify the kernel that we're ready.\n",
              "        channel.send({})\n",
              "        if (message.buffers) {\n",
              "          for (const buffer of message.buffers) {\n",
              "            buffers.push(buffer);\n",
              "            downloaded += buffer.byteLength;\n",
              "            progress.value = downloaded;\n",
              "          }\n",
              "        }\n",
              "      }\n",
              "      const blob = new Blob(buffers, {type: 'application/binary'});\n",
              "      const a = document.createElement('a');\n",
              "      a.href = window.URL.createObjectURL(blob);\n",
              "      a.download = filename;\n",
              "      div.appendChild(a);\n",
              "      a.click();\n",
              "      div.remove();\n",
              "    }\n",
              "  "
            ]
          },
          "metadata": {}
        },
        {
          "output_type": "display_data",
          "data": {
            "text/plain": [
              "<IPython.core.display.Javascript object>"
            ],
            "application/javascript": [
              "download(\"download_2aa158f1-23b0-45be-bdb7-6ab57fe79759\", \"all-women-computer-scientists.csv\", 4083)"
            ]
          },
          "metadata": {}
        }
      ]
    }
  ]
}